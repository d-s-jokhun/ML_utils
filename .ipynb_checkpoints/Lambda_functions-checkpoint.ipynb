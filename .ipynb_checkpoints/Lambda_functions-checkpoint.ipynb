{
 "cells": [
  {
   "cell_type": "code",
   "execution_count": null,
   "metadata": {},
   "outputs": [],
   "source": [
    "import tensorflow as tf"
   ]
  },
  {
   "cell_type": "code",
   "execution_count": null,
   "metadata": {},
   "outputs": [],
   "source": [
    "def Ch_Norm_255(X):\n",
    "#     Offsets and rescales each channel such that the intensities in each channel varies between 0 and 255\n",
    "# Incoming 0 values are output as 0s\n",
    "    assert len(X.shape)==4, 'Channel_GrayScale expects a 4 dimensional tensor (batch_size,img_height,img_width,nCh)'\n",
    "    bw = tf.dtypes.cast(X!=0, X.dtype)\n",
    "    bw_inv = tf.dtypes.cast(X==0, X.dtype)\n",
    "\n",
    "    maxi = tf.keras.backend.max(X, axis=[1,2], keepdims=True)\n",
    "    bckgrnd_max = bw_inv * maxi\n",
    "    offset = tf.keras.backend.min(X+bckgrnd_max, axis=[1,2], keepdims=True)\n",
    "    X = (X-offset)*bw\n",
    "\n",
    "    scale = 255/tf.keras.backend.max(X, axis=[1,2], keepdims=True)\n",
    "    X = tf.dtypes.cast(X*scale, tf.float32)\n",
    "    \n",
    "    return X"
   ]
  }
 ],
 "metadata": {
  "kernelspec": {
   "display_name": "Python 3",
   "language": "python",
   "name": "python3"
  },
  "language_info": {
   "codemirror_mode": {
    "name": "ipython",
    "version": 3
   },
   "file_extension": ".py",
   "mimetype": "text/x-python",
   "name": "python",
   "nbconvert_exporter": "python",
   "pygments_lexer": "ipython3",
   "version": "3.7.7"
  }
 },
 "nbformat": 4,
 "nbformat_minor": 4
}
