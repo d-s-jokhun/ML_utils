{
 "cells": [
  {
   "cell_type": "code",
   "execution_count": 1,
   "metadata": {},
   "outputs": [],
   "source": [
    "import tensorflow as tf\n",
    "import Lambda_functions"
   ]
  },
  {
   "cell_type": "code",
   "execution_count": 15,
   "metadata": {},
   "outputs": [],
   "source": [
    "def mdl_Ch_adjuster (Input_ImgSize, Output_ImgSize):\n",
    "        \n",
    "    assert (len(Output_ImgSize)==3 and len(Output_ImgSize)==3), 'Input_ImgSize and Output_ImgSize each has to be a tuple or a list of 3 elements (height, width, num of channels)'\n",
    "        \n",
    "    In = tf.keras.Input(shape=Input_ImgSize, name=\"Input\")\n",
    "\n",
    "    x = tf.keras.layers.Lambda(\n",
    "        lambda image: tf.image.resize_with_pad(\n",
    "            image, target_height=Output_ImgSize[0], target_width=Output_ImgSize[1], \n",
    "            method=tf.image.ResizeMethod.BILINEAR, antialias=True), name=\"Resizing\")(In)\n",
    "    \n",
    "    x = tf.keras.layers.Conv2D(\n",
    "        filters=Output_ImgSize[2], kernel_size=1, strides=(1, 1), padding=\"same\",data_format=None, \n",
    "        activation=None, use_bias=False, kernel_initializer=\"glorot_uniform\", bias_initializer=\"zeros\",\n",
    "        kernel_regularizer=None, bias_regularizer=None, activity_regularizer=None, \n",
    "        kernel_constraint=None, bias_constraint=None, name=\"SinglePixConv\")(x) \n",
    "    \n",
    "    Out=tf.keras.layers.Lambda(\n",
    "        Lambda_functions.Ch_Norm_255, name='Ch_Norm_255')(x)\n",
    "    \n",
    "    mdl_Ch_adjuster = tf.keras.Model(inputs=In, outputs=Out, name=\"Ch_adjuster\")\n",
    "    \n",
    "    return mdl_Ch_adjuster"
   ]
  },
  {
   "cell_type": "code",
   "execution_count": null,
   "metadata": {},
   "outputs": [],
   "source": []
  }
 ],
 "metadata": {
  "kernelspec": {
   "display_name": "Python 3",
   "language": "python",
   "name": "python3"
  },
  "language_info": {
   "codemirror_mode": {
    "name": "ipython",
    "version": 3
   },
   "file_extension": ".py",
   "mimetype": "text/x-python",
   "name": "python",
   "nbconvert_exporter": "python",
   "pygments_lexer": "ipython3",
   "version": "3.7.7"
  }
 },
 "nbformat": 4,
 "nbformat_minor": 4
}
