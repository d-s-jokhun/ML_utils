{
 "cells": [
  {
   "cell_type": "code",
   "execution_count": 2,
   "metadata": {},
   "outputs": [],
   "source": [
    "import tensorflow as tf"
   ]
  },
  {
   "cell_type": "code",
   "execution_count": 3,
   "metadata": {},
   "outputs": [],
   "source": [
    "def mdl_nCh_adjuster (NumOfInputCh=1, NumOfOutputCh=3, ImgSize=(224,224)):\n",
    "    \n",
    "    In = tf.keras.Input(shape=(ImgSize[0], ImgSize[1], NumOfInputCh), name=\"Input\")\n",
    "    Out = tf.keras.layers.Conv2D(NumOfOutputCh, 1, padding=\"same\", activation=\"relu\", name=\"ThreeSinglePixFilters\")(In)\n",
    "    mdl_nCh_adjuster = tf.keras.Model(inputs=In, outputs=Out, name=\"nCh_adjuster\")\n",
    "    \n",
    "    return mdl_nCh_adjuster"
   ]
  },
  {
   "cell_type": "code",
   "execution_count": null,
   "metadata": {},
   "outputs": [],
   "source": []
  }
 ],
 "metadata": {
  "kernelspec": {
   "display_name": "Python 3",
   "language": "python",
   "name": "python3"
  },
  "language_info": {
   "codemirror_mode": {
    "name": "ipython",
    "version": 3
   },
   "file_extension": ".py",
   "mimetype": "text/x-python",
   "name": "python",
   "nbconvert_exporter": "python",
   "pygments_lexer": "ipython3",
   "version": "3.7.7"
  }
 },
 "nbformat": 4,
 "nbformat_minor": 4
}
