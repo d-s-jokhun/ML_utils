{
 "cells": [
  {
   "cell_type": "code",
   "execution_count": null,
   "metadata": {},
   "outputs": [],
   "source": [
    "from reorder_layers import reorder_layers\n",
    "from get_LayersOfOrigin import get_LayersOfOrigin\n",
    "import tensorflow as tf"
   ]
  },
  {
   "cell_type": "code",
   "execution_count": null,
   "metadata": {},
   "outputs": [],
   "source": [
    "def reconnect_layers (obj, input_layers=None, reorder_layers=True):\n",
    "#     obj can be a model or a list of layers. The model (or list of layers) has to contain all the layers required for a complete model\n",
    "# reconnects layers according to updated tensors\n",
    "# If reorder_layers=True, reordering is performed according to dependencies the layers\n",
    "    if input_layers==None or input_layers==[]:\n",
    "        assert isinstance(obj,tf.keras.models.Model), 'If input_layers are not provided, obj has to be a model (instance of tf.keras.models.Model!)'\n",
    "        input_layers = get_LayersOfOrigin(obj.inputs)\n",
    "        if type(input_layers)!=list or type(input_layers)!=tuple:\n",
    "            input_layers = [input_layers]     \n",
    "    else:\n",
    "        if type(input_layers)!=list or type(input_layers)!=tuple:\n",
    "            input_layers = [input_layers]        \n",
    "        assert all(isinstance(input_layer,tf.keras.layers.Layer) for input_layer in input_layers), 'Input layer/s has/have to be instance/s of tf.keras.layers.Layer!)'\n",
    "\n",
    "#         Obtaining the layers\n",
    "    if isinstance(obj,tf.keras.models.Model):\n",
    "        layers = model.layers\n",
    "    elif type(obj)==list and all([isinstance(layer,tf.keras.layers.Layer) for layer in obj]):\n",
    "        layers = obj\n",
    "    \n",
    "        \n",
    "#     Reordering layers according to dependencies\n",
    "    if reorder_layers:\n",
    "        layers = reorder_layers(layers)\n",
    "        \n",
    "    # Reconnecting all layers to updated incoming tensors\n",
    "    for layer in layers:\n",
    "        if layer not in input_layers:\n",
    "            try:\n",
    "                updated_IncomingTensors = get_LayersOfOrigin(layer.input)\n",
    "                if len(updated_IncomingTensors)>1:\n",
    "                    updated_IncomingTensors = [L.output for L in get_LayersOfOrigin]\n",
    "                else:\n",
    "                    updated_IncomingTensors = updated_IncomingTensors.output\n",
    "                layer.inbound_nodes.clear()\n",
    "                layer.__call__(updated_IncomingTensors)\n",
    "            except:\n",
    "                pass\n",
    "\n",
    "    return"
   ]
  }
 ],
 "metadata": {
  "kernelspec": {
   "display_name": "Python 3",
   "language": "python",
   "name": "python3"
  },
  "language_info": {
   "codemirror_mode": {
    "name": "ipython",
    "version": 3
   },
   "file_extension": ".py",
   "mimetype": "text/x-python",
   "name": "python",
   "nbconvert_exporter": "python",
   "pygments_lexer": "ipython3",
   "version": "3.7.7"
  }
 },
 "nbformat": 4,
 "nbformat_minor": 4
}
