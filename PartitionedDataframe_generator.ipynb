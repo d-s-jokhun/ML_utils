{
 "cells": [
  {
   "cell_type": "code",
   "execution_count": 112,
   "metadata": {},
   "outputs": [],
   "source": [
    "import os\n",
    "import operator\n",
    "from glob import glob\n",
    "import numpy as np\n",
    "import matplotlib.pyplot as plt\n",
    "from DataPartition import DataPartition\n",
    "import random\n",
    "import pandas as pd\n",
    "from sklearn.preprocessing import LabelEncoder\n",
    "import sys"
   ]
  },
  {
   "cell_type": "markdown",
   "metadata": {},
   "source": [
    "### Searching for available classes"
   ]
  },
  {
   "cell_type": "code",
   "execution_count": 66,
   "metadata": {
    "scrolled": true
   },
   "outputs": [
    {
     "name": "stdout",
     "output_type": "stream",
     "text": [
      "No. of Classes available = 9\n",
      "\n",
      "Classes available :\n",
      " ['0_DMSO_Complete', 'DMSO', 'O-1918', 'caffeine', 'chlorphenamine', 'digoxigenin', 'estradiol', 'paracetamol', 'propoxycaine']\n"
     ]
    }
   ],
   "source": [
    "get_labels_from = 'folders' # 'Filenames' or 'Folders'\n",
    "\n",
    "# data_path = os.path.abspath(\"/gpfs0/home/jokhun/Pro 1/U2OS small mol screening/Segmented_SmallMol\")\n",
    "data_path = os.path.abspath('//deptnas.nus.edu.sg/BIE/MBELab/jokhun/Pro 1/U2OS small mol screening/Segmented_SmallMol/')\n",
    "\n",
    "if get_labels_from.lower() == 'filenames':\n",
    "    filenames = [filename for filename in os.listdir(data_path) if os.path.isfile(os.path.join(data_path,filename))]\n",
    "    classes_avail = sorted(list(set([filename[filename.rindex('_') + 1 : filename.index('.tif')] \n",
    "                                     for filename in filenames])))\n",
    "    print('No. of Classes available =',len(classes_avail))\n",
    "    print('\\nClasses available :\\n',classes_avail)\n",
    "elif get_labels_from.lower() == 'folders':\n",
    "    classes_avail = sorted([Class for Class in os.listdir(data_path)\n",
    "                            if os.path.isdir(os.path.join(data_path,Class))])\n",
    "    print('No. of Classes available =',len(classes_avail))\n",
    "    print('\\nClasses available :\\n',classes_avail)\n",
    "else: sys.exit(\"Invalid 'get_labels_from'\")"
   ]
  },
  {
   "cell_type": "markdown",
   "metadata": {},
   "source": [
    "#### Selecting classes"
   ]
  },
  {
   "cell_type": "code",
   "execution_count": 67,
   "metadata": {
    "scrolled": true
   },
   "outputs": [
    {
     "name": "stdout",
     "output_type": "stream",
     "text": [
      "No. of Classes available = 8\n",
      "\n",
      "Classes available :\n",
      " ['DMSO', 'O-1918', 'caffeine', 'chlorphenamine', 'digoxigenin', 'estradiol', 'paracetamol', 'propoxycaine']\n"
     ]
    }
   ],
   "source": [
    "Select_Classes = True # Set to False in order to select all available classes\n",
    "selection = list(range(1,len(classes_avail))) # List of classes to be selected. Only used if Select_Classes is True.\n",
    "\n",
    "if Select_Classes:\n",
    "    selected_classes = list(operator.itemgetter(*selection)(classes_avail))\n",
    "else:\n",
    "    selected_classes = classes_avail\n",
    "\n",
    "print('No. of Classes available =',len(selected_classes))\n",
    "print('\\nClasses available :\\n',selected_classes)"
   ]
  },
  {
   "cell_type": "markdown",
   "metadata": {},
   "source": [
    "#### Getting paths and determining number of files in each calss"
   ]
  },
  {
   "cell_type": "code",
   "execution_count": 68,
   "metadata": {
    "scrolled": true
   },
   "outputs": [
    {
     "data": {
      "image/png": "[encoded data removed]",
      "text/plain": [
       "<Figure size 432x288 with 1 Axes>"
      ]
     },
     "metadata": {
      "needs_background": "light"
     },
     "output_type": "display_data"
    },
    {
     "name": "stdout",
     "output_type": "stream",
     "text": [
      "Class sizes :-\n",
      " ['DMSO:6000', 'O-1918:2957', 'caffeine:3104', 'chlorphenamine:7467', 'digoxigenin:110', 'estradiol:4438', 'paracetamol:3443', 'propoxycaine:2492']\n"
     ]
    }
   ],
   "source": [
    "ClassPaths={}\n",
    "selected_classes = sorted(selected_classes)\n",
    "for Class in selected_classes:\n",
    "    if get_labels_from.lower() == 'filenames':\n",
    "        ClassPaths[Class]=sorted(glob(os.path.join(\n",
    "            data_path,f\"*_{Class}.tif\"\n",
    "        )))\n",
    "    elif get_labels_from.lower() == 'folders':\n",
    "        ClassPaths[Class]=sorted(glob(os.path.join(\n",
    "            data_path,Class,\"*.tif\"\n",
    "        )))\n",
    "    else: sys.exit(\"Invalid 'get_labels_from'\")\n",
    "Class_sizes = [len(ClassPaths[Class]) for Class in ClassPaths.keys()]\n",
    "plt.hist(Class_sizes, bins=None)\n",
    "plt.show()\n",
    "print('Class sizes :-\\n',[Class+':'+str(len(ClassPaths[Class])) for Class in ClassPaths.keys()])"
   ]
  },
  {
   "cell_type": "markdown",
   "metadata": {},
   "source": [
    "## Filtering classes according to class size"
   ]
  },
  {
   "cell_type": "code",
   "execution_count": 69,
   "metadata": {
    "scrolled": true
   },
   "outputs": [
    {
     "data": {
      "image/png": "[encoded data removed]",
      "text/plain": [
       "<Figure size 432x288 with 1 Axes>"
      ]
     },
     "metadata": {
      "needs_background": "light"
     },
     "output_type": "display_data"
    },
    {
     "name": "stdout",
     "output_type": "stream",
     "text": [
      "No. of classes selected : 6\n",
      "Min Class size: 2492 ['propoxycaine']\n",
      "Max Class size: 6000 ['DMSO']\n",
      "Class sizes :-\n",
      " ['DMSO:6000', 'O-1918:2957', 'caffeine:3104', 'estradiol:4438', 'paracetamol:3443', 'propoxycaine:2492']\n"
     ]
    }
   ],
   "source": [
    "Filter_by_Size = True\n",
    "lower_SizeLim = 1000\n",
    "upper_SizeLim = 7000\n",
    "\n",
    "if Filter_by_Size:\n",
    "    selected_ClassPaths = {}\n",
    "    for Class in ClassPaths.keys():\n",
    "        if len(ClassPaths[Class])>=lower_SizeLim and len(ClassPaths[Class])<=upper_SizeLim:\n",
    "            selected_ClassPaths[Class] = ClassPaths[Class]\n",
    "else:\n",
    "    selected_ClassPaths = ClassPaths\n",
    "    \n",
    "Class_sizes = [len(selected_ClassPaths[Class]) for Class in selected_ClassPaths.keys()]\n",
    "plt.hist(Class_sizes, bins=None)\n",
    "plt.show()\n",
    "print('No. of classes selected :',len(selected_ClassPaths.keys()))\n",
    "Class_sizes = [len(selected_ClassPaths[Class]) for Class in selected_ClassPaths.keys()]\n",
    "Min_Classes = [Class for Class in selected_ClassPaths.keys() if len(selected_ClassPaths[Class])==np.amin(Class_sizes)]\n",
    "print('Min Class size:',np.amin(Class_sizes), Min_Classes)\n",
    "Max_Classes = [Class for Class in selected_ClassPaths.keys() if len(selected_ClassPaths[Class])==np.amax(Class_sizes)]\n",
    "print('Max Class size:',np.amax(Class_sizes), Max_Classes)\n",
    "print('Class sizes :-\\n',[Class+':'+str(len(selected_ClassPaths[Class])) for Class in selected_ClassPaths.keys()])"
   ]
  },
  {
   "cell_type": "markdown",
   "metadata": {},
   "source": [
    "## Partitioning paths from each class into Train, Val and Test sets"
   ]
  },
  {
   "cell_type": "code",
   "execution_count": 70,
   "metadata": {},
   "outputs": [
    {
     "name": "stdout",
     "output_type": "stream",
     "text": [
      "Total number of paths = 36000\n",
      "\n",
      "Length of Training Set = 32862\n",
      "Classes in Training Set : ['DMSO' 'O-1918' 'caffeine' 'estradiol' 'paracetamol' 'propoxycaine']\n",
      " -Frequencies : 5477\n",
      " -Min Distinct Frequencies : 1969.0\n",
      " -Distinct Frequencies : [5477.0, 2434.0, 2581.0, 3915.0, 2920.0, 1969.0]\n",
      "\n",
      "Length of Validation Set = 2988\n",
      "Classes in Training Set : ['DMSO' 'O-1918' 'caffeine' 'estradiol' 'paracetamol' 'propoxycaine']\n",
      " -Frequencies : 498\n",
      " -Distinct Frequencies : 498.0\n",
      "\n",
      "Length of Test Set = 150\n",
      "Classes in Training Set : ['DMSO' 'O-1918' 'caffeine' 'estradiol' 'paracetamol' 'propoxycaine']\n",
      " -Frequencies : 25\n",
      " -Distinct Frequencies : 25.0\n",
      "\n",
      "1st element of Training Set : propoxycaine\n",
      "\\\\deptnas.nus.edu.sg\\BIE\\MBELab\\jokhun\\Pro 1\\U2OS small mol screening\\Segmented_SmallMol\\propoxycaine\\24296_a01_s3_52_propoxycaine.tif\n",
      "1st element of Validation Set : paracetamol\n",
      "\\\\deptnas.nus.edu.sg\\BIE\\MBELab\\jokhun\\Pro 1\\U2OS small mol screening\\Segmented_SmallMol\\paracetamol\\24313_a12_s5_50_paracetamol.tif\n",
      "1st element of Test Set : caffeine\n",
      "\\\\deptnas.nus.edu.sg\\BIE\\MBELab\\jokhun\\Pro 1\\U2OS small mol screening\\Segmented_SmallMol\\caffeine\\25966_c09_s6_21_caffeine.tif\n"
     ]
    }
   ],
   "source": [
    "RanSeed = None\n",
    "Partition = [0.79,0.2,0.01]\n",
    "\n",
    "PartitionedPaths = DataPartition(selected_ClassPaths, Partition=Partition, RanSeed=RanSeed)\n",
    "random.seed(RanSeed)\n",
    "Tr_Paths=[]; Val_Paths=[]; Ts_Paths=[];\n",
    "for key in PartitionedPaths.keys():\n",
    "    Tr_Set,Val_Set,Ts_Set=PartitionedPaths[key]['Tr_Set'],PartitionedPaths[key]['Val_Set'],PartitionedPaths[key]['Ts_Set']\n",
    "    Tr_Paths.extend(Tr_Set), Val_Paths.extend(Val_Set), Ts_Paths.extend(Ts_Set)\n",
    "random.shuffle(Tr_Paths); random.shuffle(Val_Paths); random.shuffle(Ts_Paths);\n",
    "Tr_Paths=np.array(Tr_Paths); Val_Paths=np.array(Val_Paths); Ts_Paths=np.array(Ts_Paths);\n",
    "\n",
    "if get_labels_from.lower() == 'filenames':\n",
    "    Tr_Y = [path[path.rindex('_') + 1 : path.index('.tif')] for path in Tr_Paths]\n",
    "    Val_Y = [path[path.rindex('_') + 1 : path.index('.tif')] for path in Val_Paths]\n",
    "    Ts_Y = [path[path.rindex('_') + 1 : path.index('.tif')] for path in Ts_Paths]\n",
    "elif get_labels_from.lower() == 'folders':\n",
    "    Tr_Y = [os.path.basename(os.path.dirname(path)) for path in Tr_Paths]\n",
    "    Val_Y = [os.path.basename(os.path.dirname(path)) for path in Val_Paths]\n",
    "    Ts_Y = [os.path.basename(os.path.dirname(path)) for path in Ts_Paths]\n",
    "else: sys.exit(\"Invalid 'get_labels_from'\")\n",
    "    \n",
    "print ('Total number of paths = ' + str(len(Tr_Paths)+len(Val_Paths)+len(Ts_Paths)))\n",
    "print ('\\nLength of Training Set = ' + str(len(Tr_Paths)))\n",
    "values, counts = np.unique(Tr_Y, return_counts=True)\n",
    "Dis_counts = [len(selected_ClassPaths[Class])-(round(np.amin(Class_sizes)*Partition[2])+round(np.amin(Class_sizes)*Partition[1])) for Class in selected_ClassPaths.keys()]\n",
    "print ('Classes in Training Set : ' + str(values) + '\\n -Frequencies : ' + str(counts[0]) + '\\n -Min Distinct Frequencies : ' + str(np.amin(Dis_counts)) + '\\n -Distinct Frequencies : ' + str(Dis_counts))\n",
    "print ('\\nLength of Validation Set = ' + str(len(Val_Paths)))\n",
    "values, counts = np.unique(Val_Y, return_counts=True)\n",
    "Dis_counts = round(np.amin(Class_sizes)*Partition[1])\n",
    "print ('Classes in Training Set : ' + str(values) + '\\n -Frequencies : ' + str(counts[0]) + '\\n -Distinct Frequencies : ' + str(Dis_counts))\n",
    "print ('\\nLength of Test Set = ' + str(len(Ts_Paths)))\n",
    "values, counts = np.unique(Ts_Y, return_counts=True)\n",
    "Dis_counts = round(np.amin(Class_sizes)*Partition[2])\n",
    "print ('Classes in Training Set : ' + str(values) + '\\n -Frequencies : ' + str(counts[0]) + '\\n -Distinct Frequencies : ' + str(Dis_counts))\n",
    "\n",
    "print (f'\\n1st element of Training Set : {Tr_Y[0]}\\n' + str(Tr_Paths[0]))\n",
    "print (f'1st element of Validation Set : {Val_Y[0]}\\n' + str(Val_Paths[0]))\n",
    "print (f'1st element of Test Set : {Ts_Y[0]}\\n' + str(Ts_Paths[0]))"
   ]
  },
  {
   "cell_type": "markdown",
   "metadata": {},
   "source": [
    "# Encoding the classes into labels"
   ]
  },
  {
   "cell_type": "code",
   "execution_count": 71,
   "metadata": {},
   "outputs": [
    {
     "name": "stdout",
     "output_type": "stream",
     "text": [
      "Number of calsses in the data: 6\n",
      "Classes in the Data: ['DMSO' 'O-1918' 'caffeine' 'estradiol' 'paracetamol' 'propoxycaine']\n",
      "1st element of Tr_Y, Val_Y and Ts_Y : propoxycaine, paracetamol, caffeine\n",
      "1st element of Y_Train, Y_Val and Y_Test : 5, 4, 2\n"
     ]
    }
   ],
   "source": [
    "ResponseEncoder = LabelEncoder()\n",
    "ResponseEncoder.fit(list(Tr_Y) + list(Val_Y) + list(Ts_Y))\n",
    "class_names = ResponseEncoder.classes_\n",
    "NumOfClasses = len(class_names)\n",
    "print('Number of calsses in the data: '+str(NumOfClasses))\n",
    "print('Classes in the Data: ' + str(class_names))\n",
    "Y_Train = ResponseEncoder.transform(Tr_Y)\n",
    "Y_Val = ResponseEncoder.transform(Val_Y)\n",
    "Y_Test = ResponseEncoder.transform(Ts_Y)\n",
    "print ('1st element of Tr_Y, Val_Y and Ts_Y : ' + str(Tr_Y[0]) + ', ' + str(Val_Y[0]) + ', ' + str(Ts_Y[0]))\n",
    "print ('1st element of Y_Train, Y_Val and Y_Test : ' + str(Y_Train[0]) + ', ' + str(Y_Val[0]) + ', ' + str(Y_Test[0]))"
   ]
  },
  {
   "cell_type": "markdown",
   "metadata": {},
   "source": [
    "## Converting paths to relative"
   ]
  },
  {
   "cell_type": "code",
   "execution_count": 121,
   "metadata": {},
   "outputs": [],
   "source": [
    "if get_labels_from.lower() == 'filenames':\n",
    "    rel_Tr_Paths = [os.path.basename(path) for path in Tr_Paths]\n",
    "    rel_Val_Paths = [os.path.basename(path) for path in Val_Paths]\n",
    "    rel_Ts_Paths = [os.path.basename(path) for path in Ts_Paths]\n",
    "elif get_labels_from.lower() == 'folders':\n",
    "    rel_Tr_Paths = [os.path.join(os.path.basename(os.path.dirname(path)),os.path.basename(path)) for path in Tr_Paths]\n",
    "    rel_Val_Paths = [os.path.join(os.path.basename(os.path.dirname(path)),os.path.basename(path)) for path in Val_Paths]\n",
    "    rel_Ts_Paths = [os.path.join(os.path.basename(os.path.dirname(path)),os.path.basename(path)) for path in Ts_Paths]\n",
    "else: sys.exit(\"Invalid 'get_labels_from'\")"
   ]
  },
  {
   "cell_type": "markdown",
   "metadata": {},
   "source": [
    "# Creating dataframes"
   ]
  },
  {
   "cell_type": "code",
   "execution_count": 122,
   "metadata": {},
   "outputs": [],
   "source": [
    "df_Train = pd.DataFrame(zip(rel_Tr_Paths,Y_Train,Tr_Y), columns = ['rel_path', 'label', 'class']) \n",
    "df_Val = pd.DataFrame(zip(rel_Val_Paths,Y_Val,Val_Y), columns = ['rel_path', 'label', 'class']) \n",
    "df_Test = pd.DataFrame(zip(rel_Ts_Paths,Y_Test,Ts_Y), columns = ['rel_path', 'label', 'class']) "
   ]
  },
  {
   "cell_type": "code",
   "execution_count": null,
   "metadata": {},
   "outputs": [],
   "source": []
  },
  {
   "cell_type": "code",
   "execution_count": null,
   "metadata": {},
   "outputs": [],
   "source": []
  },
  {
   "cell_type": "code",
   "execution_count": null,
   "metadata": {},
   "outputs": [],
   "source": []
  }
 ],
 "metadata": {
  "kernelspec": {
   "display_name": "Python 3",
   "language": "python",
   "name": "python3"
  },
  "language_info": {
   "codemirror_mode": {
    "name": "ipython",
    "version": 3
   },
   "file_extension": ".py",
   "mimetype": "text/x-python",
   "name": "python",
   "nbconvert_exporter": "python",
   "pygments_lexer": "ipython3",
   "version": "3.7.7"
  }
 },
 "nbformat": 4,
 "nbformat_minor": 4
}
