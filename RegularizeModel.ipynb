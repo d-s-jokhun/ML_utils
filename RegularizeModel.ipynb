{
 "cells": [
  {
   "cell_type": "markdown",
   "metadata": {},
   "source": [
    "#### Add L1L2 regularization to an existing model"
   ]
  },
  {
   "cell_type": "code",
   "execution_count": null,
   "metadata": {},
   "outputs": [],
   "source": [
    "import random\n",
    "import os\n",
    "import tensorflow as tf\n",
    "from get_CompileParams import get_CompileParams"
   ]
  },
  {
   "cell_type": "code",
   "execution_count": 3,
   "metadata": {},
   "outputs": [],
   "source": [
    "def RegularizeModel(model, regularizer, keep_weights=True):\n",
    "    \n",
    "    if not isinstance(regularizer, tf.keras.regularizers.Regularizer):\n",
    "        print(\"Regularizer must be a subclass of tf.keras.regularizers.Regularizer\")\n",
    "        return model    \n",
    "    \n",
    "#     Getting the parameters required for compiling the model later\n",
    "    optimizer,loss,metrics,loss_weights,weighted_metrics,run_eagerly = get_CompileParams(model).values()\n",
    "        \n",
    "#     Adding regularization if the layer is regularizable\n",
    "    for layer in model.layers:\n",
    "        if hasattr(layer, 'kernel_regularizer'):\n",
    "            setattr(layer, 'kernel_regularizer', regularizer)\n",
    "\n",
    "    # When we change the layer attributes, the change only happens in the model config file\n",
    "    if keep_weights:\n",
    "        weights = model.get_weights() # Get the weights before reloading the model\n",
    "        model = tf.keras.models.Model.from_config(model.get_config()) # recreates the model from the updated config file\n",
    "        model.set_weights(weights) # Reload the model weights\n",
    "    else:\n",
    "        model = tf.keras.models.Model.from_config(model.get_config()) # recreates the model from the updated config file\n",
    "    \n",
    "#     Compiling the model using parameters obtained before reloading the updated model\n",
    "    model.compile(\n",
    "        optimizer = optimizer,\n",
    "        loss = loss,\n",
    "        metrics = metrics,\n",
    "        loss_weights = loss_weights,\n",
    "        weighted_metrics = weighted_metrics,\n",
    "        run_eagerly = run_eagerly\n",
    "    )\n",
    "       \n",
    "    return model"
   ]
  },
  {
   "cell_type": "code",
   "execution_count": null,
   "metadata": {},
   "outputs": [],
   "source": []
  }
 ],
 "metadata": {
  "kernelspec": {
   "display_name": "Python 3",
   "language": "python",
   "name": "python3"
  },
  "language_info": {
   "codemirror_mode": {
    "name": "ipython",
    "version": 3
   },
   "file_extension": ".py",
   "mimetype": "text/x-python",
   "name": "python",
   "nbconvert_exporter": "python",
   "pygments_lexer": "ipython3",
   "version": "3.7.7"
  }
 },
 "nbformat": 4,
 "nbformat_minor": 4
}
