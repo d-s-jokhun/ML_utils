{
 "cells": [
  {
   "cell_type": "code",
   "execution_count": null,
   "metadata": {},
   "outputs": [],
   "source": [
    "from get_LayersOfOrigin import get_LayersOfOrigin\n",
    "import tensorflow as tf"
   ]
  },
  {
   "cell_type": "code",
   "execution_count": null,
   "metadata": {},
   "outputs": [],
   "source": [
    "def Reorder_Layers (obj):\n",
    "#     obj can be a model or a list of layers. The model (or list of layers) has to contain all the layers required for a complete model\n",
    "    # reorders layers according to dependencies\n",
    "\n",
    "    if isinstance(obj,tf.keras.models.Model):\n",
    "        layers = obj.layers\n",
    "    elif type(obj)==list and all([isinstance(layer,tf.keras.layers.Layer) for layer in obj]):\n",
    "        layers = obj\n",
    "    \n",
    "    # Determining dependencies\n",
    "    dependencies={}\n",
    "    for layer in layers:\n",
    "        try:\n",
    "            dependents = get_LayersOfOrigin(layer.input)\n",
    "            if dependents==layer: dependents=[]\n",
    "            if type(dependents)!=list: dependents=[dependents]\n",
    "        except:\n",
    "            dependents = []\n",
    "        dependencies[str(layer)]= dependents\n",
    "    \n",
    "#     one itteration of reordering\n",
    "    reordered_layers = reorder(layers, dependencies)\n",
    "    \n",
    "#     itterative reordering\n",
    "    while reordered_layers!=layers:\n",
    "        layers = reordered_layers\n",
    "        reordered_layers = reorder(layers, dependencies)\n",
    "    \n",
    "    return reordered_layers"
   ]
  },
  {
   "cell_type": "code",
   "execution_count": null,
   "metadata": {},
   "outputs": [],
   "source": [
    "def reorder (layers, dependencies):\n",
    "# reorders layers according to dependencies\n",
    "    reordered_layers = []\n",
    "    # Placing layers without dependency in front\n",
    "    for layer in layers:\n",
    "        if dependencies[str(layer)]==[]:\n",
    "            reordered_layers.append(layer)\n",
    "\n",
    "    # Handling layers with dependencies\n",
    "    for layer in layers:\n",
    "        if layer not in reordered_layers:\n",
    "            dependents=dependencies[str(layer)]\n",
    "            for dependent in dependents:\n",
    "                if dependent not in reordered_layers:\n",
    "                    reordered_layers.append(dependent)\n",
    "            reordered_layers.append(layer)\n",
    "        \n",
    "    return reordered_layers"
   ]
  }
 ],
 "metadata": {
  "kernelspec": {
   "display_name": "Python 3",
   "language": "python",
   "name": "python3"
  },
  "language_info": {
   "codemirror_mode": {
    "name": "ipython",
    "version": 3
   },
   "file_extension": ".py",
   "mimetype": "text/x-python",
   "name": "python",
   "nbconvert_exporter": "python",
   "pygments_lexer": "ipython3",
   "version": "3.7.7"
  }
 },
 "nbformat": 4,
 "nbformat_minor": 4
}
