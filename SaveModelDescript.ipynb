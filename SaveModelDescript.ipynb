{
 "cells": [
  {
   "cell_type": "code",
   "execution_count": null,
   "metadata": {},
   "outputs": [],
   "source": [
    "import os\n",
    "from tensorflow.keras.utils import plot_model"
   ]
  },
  {
   "cell_type": "code",
   "execution_count": null,
   "metadata": {},
   "outputs": [],
   "source": [
    "def SaveModelDescript (model, save_dir=r'./', save_filename='Mdl_Descript'):\n",
    "    \n",
    "    if not os.path.exists(os.path.abspath(save_dir)):\n",
    "        os.makedirs(os.path.abspath(save_dir))\n",
    "    \n",
    "    # Open the file\n",
    "    with open(os.path.join(os.path.abspath(save_dir),str(save_filename+'.txt')),'w') as fh:\n",
    "        # Pass the file handle in as a lambda function to make it callable\n",
    "        model.summary(print_fn=lambda x: fh.write(x + '\\n'))\n",
    "\n",
    "    plot_model(model, \n",
    "               to_file=os.path.join(os.path.abspath(save_dir),str(save_filename+'.png')), \n",
    "               show_shapes=True, show_layer_names=True, rankdir=\"TB\", expand_nested=True, dpi=96)\n",
    "        \n",
    "    return"
   ]
  }
 ],
 "metadata": {
  "kernelspec": {
   "display_name": "Python 3",
   "language": "python",
   "name": "python3"
  },
  "language_info": {
   "codemirror_mode": {
    "name": "ipython",
    "version": 3
   },
   "file_extension": ".py",
   "mimetype": "text/x-python",
   "name": "python",
   "nbconvert_exporter": "python",
   "pygments_lexer": "ipython3",
   "version": "3.7.7"
  }
 },
 "nbformat": 4,
 "nbformat_minor": 4
}
