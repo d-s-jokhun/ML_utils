{
 "cells": [
  {
   "cell_type": "code",
   "execution_count": null,
   "metadata": {},
   "outputs": [],
   "source": []
  },
  {
   "cell_type": "code",
   "execution_count": null,
   "metadata": {},
   "outputs": [],
   "source": [
    "def get_CompileParams (model):\n",
    "    optimizer = getattr(model, 'optimizer', None)\n",
    "    loss = getattr(model, 'loss', None)\n",
    "    metrics = getattr(model, 'metrics', None)\n",
    "    loss_weights = getattr(model, 'loss_weights', None)\n",
    "    weighted_metrics = getattr(model, 'weighted_metrics', None)\n",
    "    run_eagerly = getattr(model, 'run_eagerly', None)\n",
    "        \n",
    "    CompileParams={'optimizer':optimizer, 'loss':loss, 'metrics':metrics, 'loss_weights':loss_weights, 'weighted_metrics':weighted_metrics, 'run_eagerly':run_eagerly}\n",
    "    \n",
    "    return CompileParams"
   ]
  }
 ],
 "metadata": {
  "kernelspec": {
   "display_name": "Python 3",
   "language": "python",
   "name": "python3"
  },
  "language_info": {
   "codemirror_mode": {
    "name": "ipython",
    "version": 3
   },
   "file_extension": ".py",
   "mimetype": "text/x-python",
   "name": "python",
   "nbconvert_exporter": "python",
   "pygments_lexer": "ipython3",
   "version": "3.7.7"
  }
 },
 "nbformat": 4,
 "nbformat_minor": 4
}
