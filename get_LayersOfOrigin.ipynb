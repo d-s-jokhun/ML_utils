{
 "cells": [
  {
   "cell_type": "code",
   "execution_count": null,
   "metadata": {},
   "outputs": [],
   "source": [
    "import tensorflow as tf"
   ]
  },
  {
   "cell_type": "code",
   "execution_count": null,
   "metadata": {},
   "outputs": [],
   "source": [
    "def get_LayersOfOrigin (objs):\n",
    "# objs can be a single or a list of layer/s and/or tensor/s\n",
    "\n",
    "    if type(objs)==list or type(objs)==tuple:\n",
    "        layers = []\n",
    "        for obj in objs:\n",
    "            if isinstance(obj,tf.keras.layers.Layer):\n",
    "                layers.append(obj)\n",
    "            else:\n",
    "                layers.append(obj.__dict__['_keras_history'].layer)\n",
    "    else:\n",
    "        if isinstance(objs,tf.keras.layers.Layer):\n",
    "            layers = objs\n",
    "        else:\n",
    "            layers = objs.__dict__['_keras_history'].layer  \n",
    "            \n",
    "    return layers"
   ]
  }
 ],
 "metadata": {
  "kernelspec": {
   "display_name": "Python 3",
   "language": "python",
   "name": "python3"
  },
  "language_info": {
   "codemirror_mode": {
    "name": "ipython",
    "version": 3
   },
   "file_extension": ".py",
   "mimetype": "text/x-python",
   "name": "python",
   "nbconvert_exporter": "python",
   "pygments_lexer": "ipython3",
   "version": "3.7.7"
  }
 },
 "nbformat": 4,
 "nbformat_minor": 4
}
